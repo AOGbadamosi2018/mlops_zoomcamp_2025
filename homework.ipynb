{
 "cells": [
  {
   "cell_type": "code",
   "execution_count": 46,
   "id": "59e2b45d-51c2-4bc8-9ed8-a0b4b2c93ba9",
   "metadata": {},
   "outputs": [],
   "source": [
    "import pandas as pd \n",
    "import numpy as np\n",
    "import sklearn \n",
    "from sklearn.preprocessing import OneHotEncoder "
   ]
  },
  {
   "cell_type": "code",
   "execution_count": 47,
   "id": "ed75f4fa-b6de-4c63-9ac3-d997e46907a7",
   "metadata": {},
   "outputs": [],
   "source": [
    "#!pip install pyarrow"
   ]
  },
  {
   "cell_type": "code",
   "execution_count": 48,
   "id": "22345a0a-c8c1-4cde-85fa-cd5750d9de46",
   "metadata": {},
   "outputs": [],
   "source": [
    "# Extracting the import data links \n",
    "yellow_jan = \"https://d37ci6vzurychx.cloudfront.net/trip-data/yellow_tripdata_2023-01.parquet\"\n",
    "yellow_feb = \"https://d37ci6vzurychx.cloudfront.net/trip-data/yellow_tripdata_2023-02.parquet\" "
   ]
  },
  {
   "cell_type": "code",
   "execution_count": 49,
   "id": "9184cc56-d4f8-4be7-88ee-34c0f5a29784",
   "metadata": {},
   "outputs": [],
   "source": [
    "#Reading in the data \n",
    "\n",
    "jan_data = pd.read_parquet(yellow_jan)\n",
    "feb_data = pd.read_parquet(yellow_feb)"
   ]
  },
  {
   "cell_type": "code",
   "execution_count": 50,
   "id": "c0a95e44-17d9-4670-b17e-4b8ef76f86fc",
   "metadata": {},
   "outputs": [
    {
     "data": {
      "text/html": [
       "<div>\n",
       "<style scoped>\n",
       "    .dataframe tbody tr th:only-of-type {\n",
       "        vertical-align: middle;\n",
       "    }\n",
       "\n",
       "    .dataframe tbody tr th {\n",
       "        vertical-align: top;\n",
       "    }\n",
       "\n",
       "    .dataframe thead th {\n",
       "        text-align: right;\n",
       "    }\n",
       "</style>\n",
       "<table border=\"1\" class=\"dataframe\">\n",
       "  <thead>\n",
       "    <tr style=\"text-align: right;\">\n",
       "      <th></th>\n",
       "      <th>VendorID</th>\n",
       "      <th>tpep_pickup_datetime</th>\n",
       "      <th>tpep_dropoff_datetime</th>\n",
       "      <th>passenger_count</th>\n",
       "      <th>trip_distance</th>\n",
       "      <th>RatecodeID</th>\n",
       "      <th>store_and_fwd_flag</th>\n",
       "      <th>PULocationID</th>\n",
       "      <th>DOLocationID</th>\n",
       "      <th>payment_type</th>\n",
       "      <th>fare_amount</th>\n",
       "      <th>extra</th>\n",
       "      <th>mta_tax</th>\n",
       "      <th>tip_amount</th>\n",
       "      <th>tolls_amount</th>\n",
       "      <th>improvement_surcharge</th>\n",
       "      <th>total_amount</th>\n",
       "      <th>congestion_surcharge</th>\n",
       "      <th>airport_fee</th>\n",
       "    </tr>\n",
       "  </thead>\n",
       "  <tbody>\n",
       "    <tr>\n",
       "      <th>0</th>\n",
       "      <td>2</td>\n",
       "      <td>2023-01-01 00:32:10</td>\n",
       "      <td>2023-01-01 00:40:36</td>\n",
       "      <td>1.0</td>\n",
       "      <td>0.97</td>\n",
       "      <td>1.0</td>\n",
       "      <td>N</td>\n",
       "      <td>161</td>\n",
       "      <td>141</td>\n",
       "      <td>2</td>\n",
       "      <td>9.3</td>\n",
       "      <td>1.00</td>\n",
       "      <td>0.5</td>\n",
       "      <td>0.00</td>\n",
       "      <td>0.0</td>\n",
       "      <td>1.0</td>\n",
       "      <td>14.30</td>\n",
       "      <td>2.5</td>\n",
       "      <td>0.00</td>\n",
       "    </tr>\n",
       "    <tr>\n",
       "      <th>1</th>\n",
       "      <td>2</td>\n",
       "      <td>2023-01-01 00:55:08</td>\n",
       "      <td>2023-01-01 01:01:27</td>\n",
       "      <td>1.0</td>\n",
       "      <td>1.10</td>\n",
       "      <td>1.0</td>\n",
       "      <td>N</td>\n",
       "      <td>43</td>\n",
       "      <td>237</td>\n",
       "      <td>1</td>\n",
       "      <td>7.9</td>\n",
       "      <td>1.00</td>\n",
       "      <td>0.5</td>\n",
       "      <td>4.00</td>\n",
       "      <td>0.0</td>\n",
       "      <td>1.0</td>\n",
       "      <td>16.90</td>\n",
       "      <td>2.5</td>\n",
       "      <td>0.00</td>\n",
       "    </tr>\n",
       "    <tr>\n",
       "      <th>2</th>\n",
       "      <td>2</td>\n",
       "      <td>2023-01-01 00:25:04</td>\n",
       "      <td>2023-01-01 00:37:49</td>\n",
       "      <td>1.0</td>\n",
       "      <td>2.51</td>\n",
       "      <td>1.0</td>\n",
       "      <td>N</td>\n",
       "      <td>48</td>\n",
       "      <td>238</td>\n",
       "      <td>1</td>\n",
       "      <td>14.9</td>\n",
       "      <td>1.00</td>\n",
       "      <td>0.5</td>\n",
       "      <td>15.00</td>\n",
       "      <td>0.0</td>\n",
       "      <td>1.0</td>\n",
       "      <td>34.90</td>\n",
       "      <td>2.5</td>\n",
       "      <td>0.00</td>\n",
       "    </tr>\n",
       "    <tr>\n",
       "      <th>3</th>\n",
       "      <td>1</td>\n",
       "      <td>2023-01-01 00:03:48</td>\n",
       "      <td>2023-01-01 00:13:25</td>\n",
       "      <td>0.0</td>\n",
       "      <td>1.90</td>\n",
       "      <td>1.0</td>\n",
       "      <td>N</td>\n",
       "      <td>138</td>\n",
       "      <td>7</td>\n",
       "      <td>1</td>\n",
       "      <td>12.1</td>\n",
       "      <td>7.25</td>\n",
       "      <td>0.5</td>\n",
       "      <td>0.00</td>\n",
       "      <td>0.0</td>\n",
       "      <td>1.0</td>\n",
       "      <td>20.85</td>\n",
       "      <td>0.0</td>\n",
       "      <td>1.25</td>\n",
       "    </tr>\n",
       "    <tr>\n",
       "      <th>4</th>\n",
       "      <td>2</td>\n",
       "      <td>2023-01-01 00:10:29</td>\n",
       "      <td>2023-01-01 00:21:19</td>\n",
       "      <td>1.0</td>\n",
       "      <td>1.43</td>\n",
       "      <td>1.0</td>\n",
       "      <td>N</td>\n",
       "      <td>107</td>\n",
       "      <td>79</td>\n",
       "      <td>1</td>\n",
       "      <td>11.4</td>\n",
       "      <td>1.00</td>\n",
       "      <td>0.5</td>\n",
       "      <td>3.28</td>\n",
       "      <td>0.0</td>\n",
       "      <td>1.0</td>\n",
       "      <td>19.68</td>\n",
       "      <td>2.5</td>\n",
       "      <td>0.00</td>\n",
       "    </tr>\n",
       "  </tbody>\n",
       "</table>\n",
       "</div>"
      ],
      "text/plain": [
       "   VendorID tpep_pickup_datetime tpep_dropoff_datetime  passenger_count  \\\n",
       "0         2  2023-01-01 00:32:10   2023-01-01 00:40:36              1.0   \n",
       "1         2  2023-01-01 00:55:08   2023-01-01 01:01:27              1.0   \n",
       "2         2  2023-01-01 00:25:04   2023-01-01 00:37:49              1.0   \n",
       "3         1  2023-01-01 00:03:48   2023-01-01 00:13:25              0.0   \n",
       "4         2  2023-01-01 00:10:29   2023-01-01 00:21:19              1.0   \n",
       "\n",
       "   trip_distance  RatecodeID store_and_fwd_flag  PULocationID  DOLocationID  \\\n",
       "0           0.97         1.0                  N           161           141   \n",
       "1           1.10         1.0                  N            43           237   \n",
       "2           2.51         1.0                  N            48           238   \n",
       "3           1.90         1.0                  N           138             7   \n",
       "4           1.43         1.0                  N           107            79   \n",
       "\n",
       "   payment_type  fare_amount  extra  mta_tax  tip_amount  tolls_amount  \\\n",
       "0             2          9.3   1.00      0.5        0.00           0.0   \n",
       "1             1          7.9   1.00      0.5        4.00           0.0   \n",
       "2             1         14.9   1.00      0.5       15.00           0.0   \n",
       "3             1         12.1   7.25      0.5        0.00           0.0   \n",
       "4             1         11.4   1.00      0.5        3.28           0.0   \n",
       "\n",
       "   improvement_surcharge  total_amount  congestion_surcharge  airport_fee  \n",
       "0                    1.0         14.30                   2.5         0.00  \n",
       "1                    1.0         16.90                   2.5         0.00  \n",
       "2                    1.0         34.90                   2.5         0.00  \n",
       "3                    1.0         20.85                   0.0         1.25  \n",
       "4                    1.0         19.68                   2.5         0.00  "
      ]
     },
     "execution_count": 50,
     "metadata": {},
     "output_type": "execute_result"
    }
   ],
   "source": [
    "#Previewing the read data \n",
    "jan_data.head(5)"
   ]
  },
  {
   "cell_type": "code",
   "execution_count": 51,
   "id": "1ec470e6-d3d3-45d2-b21d-741c5f8050e2",
   "metadata": {},
   "outputs": [],
   "source": [
    "#Extracting duration information \n",
    "jan_data['duration'] = (jan_data['tpep_dropoff_datetime'] - jan_data['tpep_pickup_datetime']).dt.total_seconds()/60"
   ]
  },
  {
   "cell_type": "code",
   "execution_count": 52,
   "id": "31b839b4-1984-4974-9c1a-73b8eaef6f38",
   "metadata": {},
   "outputs": [
    {
     "data": {
      "text/plain": [
       "42.59"
      ]
     },
     "execution_count": 52,
     "metadata": {},
     "output_type": "execute_result"
    }
   ],
   "source": [
    "# the rides vary by 42 minutes\n",
    "round(np.std(jan_data['duration']), 2) "
   ]
  },
  {
   "cell_type": "code",
   "execution_count": 53,
   "id": "c6ff4ce9-5fdf-464c-abe5-670b9cff777e",
   "metadata": {},
   "outputs": [],
   "source": [
    "#filtering jan yellow taxi trips data for rides between 1 and 60 \n",
    "filtered_data = jan_data[np.logical_and(jan_data['duration']>1,jan_data['duration']<60)] "
   ]
  },
  {
   "cell_type": "code",
   "execution_count": 54,
   "id": "75979355-0dd1-474c-989d-b8eafdc08180",
   "metadata": {},
   "outputs": [
    {
     "data": {
      "text/plain": [
       "0.9812062609276352"
      ]
     },
     "execution_count": 54,
     "metadata": {},
     "output_type": "execute_result"
    }
   ],
   "source": [
    "#Computing the fraction of the data left \n",
    "( filtered_data.shape[0] /jan_data.shape[0] )\n"
   ]
  },
  {
   "cell_type": "code",
   "execution_count": 55,
   "id": "5ae92f28-1e90-4f0c-bebb-0bc148c2bcf8",
   "metadata": {},
   "outputs": [],
   "source": [
    "# One Hot Encoding "
   ]
  },
  {
   "cell_type": "code",
   "execution_count": 56,
   "id": "adcb31a8-987f-4952-a276-d2616513fb50",
   "metadata": {},
   "outputs": [
    {
     "name": "stderr",
     "output_type": "stream",
     "text": [
      "/tmp/ipykernel_2321/2112341353.py:1: SettingWithCopyWarning: \n",
      "A value is trying to be set on a copy of a slice from a DataFrame.\n",
      "Try using .loc[row_indexer,col_indexer] = value instead\n",
      "\n",
      "See the caveats in the documentation: https://pandas.pydata.org/pandas-docs/stable/user_guide/indexing.html#returning-a-view-versus-a-copy\n",
      "  filtered_data['PULocationID'] = filtered_data['PULocationID'].astype('str')\n",
      "/tmp/ipykernel_2321/2112341353.py:2: SettingWithCopyWarning: \n",
      "A value is trying to be set on a copy of a slice from a DataFrame.\n",
      "Try using .loc[row_indexer,col_indexer] = value instead\n",
      "\n",
      "See the caveats in the documentation: https://pandas.pydata.org/pandas-docs/stable/user_guide/indexing.html#returning-a-view-versus-a-copy\n",
      "  filtered_data['DOLocationID'] = filtered_data['DOLocationID'].astype('str')\n"
     ]
    }
   ],
   "source": [
    "filtered_data['PULocationID'] = filtered_data['PULocationID'].astype('str') \n",
    "filtered_data['DOLocationID'] = filtered_data['DOLocationID'].astype('str') \n"
   ]
  },
  {
   "cell_type": "code",
   "execution_count": 57,
   "id": "4513fb87-8dd4-4bd2-93af-81e4585b05a8",
   "metadata": {},
   "outputs": [
    {
     "data": {
      "text/plain": [
       "VendorID                          int64\n",
       "tpep_pickup_datetime     datetime64[ns]\n",
       "tpep_dropoff_datetime    datetime64[ns]\n",
       "passenger_count                 float64\n",
       "trip_distance                   float64\n",
       "RatecodeID                      float64\n",
       "store_and_fwd_flag               object\n",
       "PULocationID                     object\n",
       "DOLocationID                     object\n",
       "payment_type                      int64\n",
       "fare_amount                     float64\n",
       "extra                           float64\n",
       "mta_tax                         float64\n",
       "tip_amount                      float64\n",
       "tolls_amount                    float64\n",
       "improvement_surcharge           float64\n",
       "total_amount                    float64\n",
       "congestion_surcharge            float64\n",
       "airport_fee                     float64\n",
       "duration                        float64\n",
       "dtype: object"
      ]
     },
     "execution_count": 57,
     "metadata": {},
     "output_type": "execute_result"
    }
   ],
   "source": [
    "filtered_data.dtypes"
   ]
  },
  {
   "cell_type": "code",
   "execution_count": 58,
   "id": "999264af-524b-4f7b-82ce-8671f4b6f254",
   "metadata": {},
   "outputs": [],
   "source": [
    "from sklearn.feature_extraction import  DictVectorizer"
   ]
  },
  {
   "cell_type": "code",
   "execution_count": 59,
   "id": "3d4b092e-0af1-4100-8b1f-6d1a882ef598",
   "metadata": {},
   "outputs": [
    {
     "data": {
      "text/plain": [
       "Index(['VendorID', 'tpep_pickup_datetime', 'tpep_dropoff_datetime',\n",
       "       'passenger_count', 'trip_distance', 'RatecodeID', 'store_and_fwd_flag',\n",
       "       'PULocationID', 'DOLocationID', 'payment_type', 'fare_amount', 'extra',\n",
       "       'mta_tax', 'tip_amount', 'tolls_amount', 'improvement_surcharge',\n",
       "       'total_amount', 'congestion_surcharge', 'airport_fee', 'duration'],\n",
       "      dtype='object')"
      ]
     },
     "execution_count": 59,
     "metadata": {},
     "output_type": "execute_result"
    }
   ],
   "source": [
    "filtered_data.columns "
   ]
  },
  {
   "cell_type": "code",
   "execution_count": 60,
   "id": "fb95b5a0-49f3-47ad-8738-bf23092ce7d0",
   "metadata": {},
   "outputs": [],
   "source": [
    "train_dicts = filtered_data[['PULocationID','DOLocationID']].to_dict(orient ='records')\n",
    "dv = DictVectorizer()"
   ]
  },
  {
   "cell_type": "code",
   "execution_count": 61,
   "id": "c34740b1-bc53-4b85-adc5-257b3b144242",
   "metadata": {},
   "outputs": [],
   "source": [
    "X_train = dv.fit_transform(train_dicts)"
   ]
  },
  {
   "cell_type": "code",
   "execution_count": 62,
   "id": "165e18c0-e8cf-4914-a3b4-56371eb4de59",
   "metadata": {},
   "outputs": [
    {
     "data": {
      "text/plain": [
       "(3009130, 515)"
      ]
     },
     "execution_count": 62,
     "metadata": {},
     "output_type": "execute_result"
    }
   ],
   "source": [
    "X_train.shape"
   ]
  },
  {
   "cell_type": "code",
   "execution_count": 63,
   "id": "318954b0-0d97-4d51-a44d-293b5560edee",
   "metadata": {},
   "outputs": [],
   "source": [
    "y_train = filtered_data['duration'].values"
   ]
  },
  {
   "cell_type": "code",
   "execution_count": 64,
   "id": "5b0cfd55-cd31-4e57-ac4d-7c7a2e6a9f62",
   "metadata": {},
   "outputs": [
    {
     "data": {
      "text/plain": [
       "(3009130,)"
      ]
     },
     "execution_count": 64,
     "metadata": {},
     "output_type": "execute_result"
    }
   ],
   "source": [
    "y_train.shape"
   ]
  },
  {
   "cell_type": "code",
   "execution_count": 65,
   "id": "0ce2f9c2-3985-4690-b691-b01de2e79463",
   "metadata": {},
   "outputs": [],
   "source": [
    "from sklearn.linear_model import LinearRegression"
   ]
  },
  {
   "cell_type": "code",
   "execution_count": 66,
   "id": "66eff9a7-8aa6-4ec1-86a8-1ca29b3c9238",
   "metadata": {},
   "outputs": [],
   "source": [
    "model = LinearRegression()"
   ]
  },
  {
   "cell_type": "code",
   "execution_count": 67,
   "id": "0b590936-4a26-4b8b-9d8f-89094e958150",
   "metadata": {},
   "outputs": [
    {
     "data": {
      "text/plain": [
       "LinearRegression()"
      ]
     },
     "execution_count": 67,
     "metadata": {},
     "output_type": "execute_result"
    }
   ],
   "source": [
    "model.fit( X_train , y_train)"
   ]
  },
  {
   "cell_type": "code",
   "execution_count": 68,
   "id": "7bc08dc2-f7e9-4137-a36e-b0fb310d8b47",
   "metadata": {},
   "outputs": [],
   "source": [
    "y_pred = model.predict(X_train)"
   ]
  },
  {
   "cell_type": "code",
   "execution_count": 69,
   "id": "d650076a-1370-46db-b8f9-0c6e1db0c34e",
   "metadata": {},
   "outputs": [
    {
     "data": {
      "text/plain": [
       "array([ 8.43333333,  6.31666667, 12.75      , ..., 24.51666667,\n",
       "       13.        , 14.4       ])"
      ]
     },
     "execution_count": 69,
     "metadata": {},
     "output_type": "execute_result"
    }
   ],
   "source": [
    "y_train"
   ]
  },
  {
   "cell_type": "code",
   "execution_count": 70,
   "id": "9a784df2-9d75-4a02-8595-80e9cf7f1eef",
   "metadata": {},
   "outputs": [
    {
     "data": {
      "text/plain": [
       "array([11.52756477, 10.8979128 , 11.32572075, ..., 11.73808022,\n",
       "       12.70503857, 11.54119831])"
      ]
     },
     "execution_count": 70,
     "metadata": {},
     "output_type": "execute_result"
    }
   ],
   "source": [
    "y_pred"
   ]
  },
  {
   "cell_type": "code",
   "execution_count": 87,
   "id": "b86bfbe1-b80a-4eaf-9ab5-e352cb251c6a",
   "metadata": {},
   "outputs": [],
   "source": [
    "rmse_train = mean_squared_error(y_train, y_pred, squared = False)"
   ]
  },
  {
   "cell_type": "code",
   "execution_count": 88,
   "id": "33b4c19f-c7dc-4eb6-b6b6-d7b8f11639d6",
   "metadata": {},
   "outputs": [
    {
     "name": "stdout",
     "output_type": "stream",
     "text": [
      "7.648541538927101\n"
     ]
    }
   ],
   "source": [
    "print(rmse_train)"
   ]
  },
  {
   "cell_type": "code",
   "execution_count": 71,
   "id": "946d6fd4-7bb8-4499-a0a2-ebe14dd077b6",
   "metadata": {},
   "outputs": [],
   "source": [
    "import seaborn as sns "
   ]
  },
  {
   "cell_type": "code",
   "execution_count": 72,
   "id": "e62db7ae-daa3-4d0a-b204-81cc2702d27b",
   "metadata": {},
   "outputs": [
    {
     "name": "stderr",
     "output_type": "stream",
     "text": [
      "/home/codespace/anaconda3/lib/python3.9/site-packages/seaborn/distributions.py:2619: FutureWarning: `distplot` is a deprecated function and will be removed in a future version. Please adapt your code to use either `displot` (a figure-level function with similar flexibility) or `histplot` (an axes-level function for histograms).\n",
      "  warnings.warn(msg, FutureWarning)\n",
      "/home/codespace/anaconda3/lib/python3.9/site-packages/seaborn/distributions.py:2619: FutureWarning: `distplot` is a deprecated function and will be removed in a future version. Please adapt your code to use either `displot` (a figure-level function with similar flexibility) or `histplot` (an axes-level function for histograms).\n",
      "  warnings.warn(msg, FutureWarning)\n"
     ]
    },
    {
     "data": {
      "text/plain": [
       "<AxesSubplot:ylabel='Density'>"
      ]
     },
     "execution_count": 72,
     "metadata": {},
     "output_type": "execute_result"
    },
    {
     "data": {
      "image/png": "[encoded data removed]",
      "text/plain": [
       "<Figure size 432x288 with 1 Axes>"
      ]
     },
     "metadata": {
      "needs_background": "light"
     },
     "output_type": "display_data"
    }
   ],
   "source": [
    "sns.distplot(y_train, label = 'actual')\n",
    "sns.distplot(y_pred, label = 'predicted')\n"
   ]
  },
  {
   "cell_type": "code",
   "execution_count": 73,
   "id": "54a77bf3-dd8b-46e3-b675-1649154bd3f3",
   "metadata": {},
   "outputs": [
    {
     "name": "stderr",
     "output_type": "stream",
     "text": [
      "/tmp/ipykernel_2321/974256564.py:7: SettingWithCopyWarning: \n",
      "A value is trying to be set on a copy of a slice from a DataFrame.\n",
      "Try using .loc[row_indexer,col_indexer] = value instead\n",
      "\n",
      "See the caveats in the documentation: https://pandas.pydata.org/pandas-docs/stable/user_guide/indexing.html#returning-a-view-versus-a-copy\n",
      "  feb_filtered_data['PULocationID'] = feb_filtered_data['PULocationID'].astype('str')\n",
      "/tmp/ipykernel_2321/974256564.py:9: SettingWithCopyWarning: \n",
      "A value is trying to be set on a copy of a slice from a DataFrame.\n",
      "Try using .loc[row_indexer,col_indexer] = value instead\n",
      "\n",
      "See the caveats in the documentation: https://pandas.pydata.org/pandas-docs/stable/user_guide/indexing.html#returning-a-view-versus-a-copy\n",
      "  feb_filtered_data['DOLocationID'] = feb_filtered_data['DOLocationID'].astype('str')\n"
     ]
    }
   ],
   "source": [
    "# Predicting on unseen data \n",
    "#Applying the same preprocessing steps \n",
    "feb_data['duration'] = (feb_data['tpep_dropoff_datetime'] - feb_data['tpep_pickup_datetime']).dt.total_seconds()/60\n",
    "\n",
    "feb_filtered_data = feb_data[np.logical_and(feb_data['duration']>1,feb_data['duration']<60)]\n",
    "\n",
    "feb_filtered_data['PULocationID'] = feb_filtered_data['PULocationID'].astype('str')\n",
    "\n",
    "feb_filtered_data['DOLocationID'] = feb_filtered_data['DOLocationID'].astype('str')\n",
    "\n",
    "feb_train = feb_filtered_data[['PULocationID','DOLocationID']].to_dict(orient = 'records')\n",
    "\n",
    "feb_actual = feb_filtered_data.duration.values\n",
    "\n",
    "feb_predict = dv.transform(feb_train)\n",
    "\n",
    "\n"
   ]
  },
  {
   "cell_type": "code",
   "execution_count": 76,
   "id": "08c3cf27-06c8-4ab9-9bb4-cf2a64554d26",
   "metadata": {},
   "outputs": [],
   "source": [
    "def  prep_data(data, transformer): \n",
    "    \n",
    "    \"\"\"\n",
    "    This function transforms a new dataset for prediction.\n",
    "    It creates a new column \n",
    "    removes invalid values , does data type conversions and transforms the data\n",
    "    based on the dict vectorizer. \n",
    "    \n",
    "    \"\"\"\n",
    "    data['duration'] = (data['tpep_dropoff_datetime'] - data['tpep_pickup_datetime']).dt.total_seconds()/60\n",
    "\n",
    "    filtered_data = data[np.logical_and(data['duration']>1,data['duration']<60)]\n",
    "\n",
    "    filtered_data['PULocationID'] = filtered_data['PULocationID'].astype('str')\n",
    "\n",
    "    filtered_data['DOLocationID'] = filtered_data['DOLocationID'].astype('str')\n",
    "\n",
    "    train_dicts = filtered_data[['PULocationID','DOLocationID']].to_dict(orient = 'records')\n",
    "\n",
    "    actual_duration = feb_filtered_data.duration.values\n",
    "    \n",
    "    return transformer.transform(train_dicts) , actual_duration"
   ]
  },
  {
   "cell_type": "code",
   "execution_count": 77,
   "id": "5fc5157f-a5f2-4dbe-83eb-b8be33efe36e",
   "metadata": {},
   "outputs": [
    {
     "name": "stderr",
     "output_type": "stream",
     "text": [
      "/tmp/ipykernel_2321/3144171000.py:14: SettingWithCopyWarning: \n",
      "A value is trying to be set on a copy of a slice from a DataFrame.\n",
      "Try using .loc[row_indexer,col_indexer] = value instead\n",
      "\n",
      "See the caveats in the documentation: https://pandas.pydata.org/pandas-docs/stable/user_guide/indexing.html#returning-a-view-versus-a-copy\n",
      "  filtered_data['PULocationID'] = filtered_data['PULocationID'].astype('str')\n",
      "/tmp/ipykernel_2321/3144171000.py:16: SettingWithCopyWarning: \n",
      "A value is trying to be set on a copy of a slice from a DataFrame.\n",
      "Try using .loc[row_indexer,col_indexer] = value instead\n",
      "\n",
      "See the caveats in the documentation: https://pandas.pydata.org/pandas-docs/stable/user_guide/indexing.html#returning-a-view-versus-a-copy\n",
      "  filtered_data['DOLocationID'] = filtered_data['DOLocationID'].astype('str')\n"
     ]
    }
   ],
   "source": [
    "feb_predicted , feb_actual  = prep_data(feb_data , dv)"
   ]
  },
  {
   "cell_type": "code",
   "execution_count": 80,
   "id": "7a2ca2bb-a65b-4975-bbf5-b8bbebad53c5",
   "metadata": {},
   "outputs": [
    {
     "data": {
      "text/plain": [
       "2855879"
      ]
     },
     "execution_count": 80,
     "metadata": {},
     "output_type": "execute_result"
    }
   ],
   "source": [
    "len(feb_actual)"
   ]
  },
  {
   "cell_type": "code",
   "execution_count": 81,
   "id": "5113971a-50ba-4067-9cb1-51cbb795160e",
   "metadata": {},
   "outputs": [],
   "source": [
    "feb_duration = model.predict(feb_predict)"
   ]
  },
  {
   "cell_type": "code",
   "execution_count": 82,
   "id": "69665dbb-cf2e-4c42-8dcc-2ecb96bb9837",
   "metadata": {},
   "outputs": [],
   "source": [
    "from sklearn.metrics import mean_squared_error  "
   ]
  },
  {
   "cell_type": "code",
   "execution_count": 89,
   "id": "c33f4ad4-f393-41ba-914b-4716bc290709",
   "metadata": {},
   "outputs": [],
   "source": [
    "rmse_pred = mean_squared_error(feb_duration, feb_actual, squared = False)"
   ]
  },
  {
   "cell_type": "code",
   "execution_count": 90,
   "id": "56d670b3-c852-4c29-82d2-d89600911807",
   "metadata": {},
   "outputs": [
    {
     "name": "stdout",
     "output_type": "stream",
     "text": [
      "7.810133646377446\n"
     ]
    }
   ],
   "source": [
    "print(rmse_pred)"
   ]
  },
  {
   "cell_type": "code",
   "execution_count": null,
   "id": "179d5359-02af-48e3-8590-5cec01dea05d",
   "metadata": {},
   "outputs": [],
   "source": []
  }
 ],
 "metadata": {
  "kernelspec": {
   "display_name": "Python 3 (ipykernel)",
   "language": "python",
   "name": "python3"
  },
  "language_info": {
   "codemirror_mode": {
    "name": "ipython",
    "version": 3
   },
   "file_extension": ".py",
   "mimetype": "text/x-python",
   "name": "python",
   "nbconvert_exporter": "python",
   "pygments_lexer": "ipython3",
   "version": "3.9.12"
  }
 },
 "nbformat": 4,
 "nbformat_minor": 5
}
